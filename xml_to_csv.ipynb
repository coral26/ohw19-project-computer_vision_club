{
 "cells": [
  {
   "cell_type": "code",
   "execution_count": 1,
   "metadata": {},
   "outputs": [],
   "source": [
    "source = 'sample_data/'"
   ]
  },
  {
   "cell_type": "code",
   "execution_count": 2,
   "metadata": {},
   "outputs": [],
   "source": [
    "# From the raccoon tutorial\n",
    "#https://github.com/datitran/raccoon_dataset/blob/master/xml_to_csv.py\n",
    "\n",
    "# Used to convert xml files to csv files, takes in a path to xml files, returns Pandas dataframe\n",
    "import os\n",
    "import glob\n",
    "import pandas as pd\n",
    "import xml.etree.ElementTree as ET\n",
    "\n",
    "\n",
    "def xml_to_csv(path):\n",
    "    xml_list = []\n",
    "    for xml_file in glob.glob(path + '/*.xml'):\n",
    "        tree = ET.parse(xml_file)\n",
    "        root = tree.getroot()\n",
    "        for member in root.findall('object'):\n",
    "            value = (root.find('filename').text,\n",
    "                     int(root.find('size')[0].text),\n",
    "                     int(root.find('size')[1].text),\n",
    "                     member[0].text,\n",
    "                     int(member[4][0].text),\n",
    "                     int(member[4][1].text),\n",
    "                     int(member[4][2].text),\n",
    "                     int(member[4][3].text)\n",
    "                     )\n",
    "            xml_list.append(value)\n",
    "    column_name = ['filename', 'width', 'height', 'class', 'xmin', 'ymin', 'xmax', 'ymax']\n",
    "    xml_df = pd.DataFrame(xml_list, columns=column_name)\n",
    "    \n",
    "    return xml_df\n",
    "\n",
    "df = xml_to_csv(source)"
   ]
  },
  {
   "cell_type": "code",
   "execution_count": 51,
   "metadata": {},
   "outputs": [
    {
     "data": {
      "text/html": [
       "<div>\n",
       "<style scoped>\n",
       "    .dataframe tbody tr th:only-of-type {\n",
       "        vertical-align: middle;\n",
       "    }\n",
       "\n",
       "    .dataframe tbody tr th {\n",
       "        vertical-align: top;\n",
       "    }\n",
       "\n",
       "    .dataframe thead th {\n",
       "        text-align: right;\n",
       "    }\n",
       "</style>\n",
       "<table border=\"1\" class=\"dataframe\">\n",
       "  <thead>\n",
       "    <tr style=\"text-align: right;\">\n",
       "      <th></th>\n",
       "      <th>filename</th>\n",
       "      <th>width</th>\n",
       "      <th>height</th>\n",
       "      <th>class</th>\n",
       "      <th>xmin</th>\n",
       "      <th>ymin</th>\n",
       "      <th>xmax</th>\n",
       "      <th>ymax</th>\n",
       "    </tr>\n",
       "  </thead>\n",
       "  <tbody>\n",
       "    <tr>\n",
       "      <th>0</th>\n",
       "      <td>201503.20150602.121659332.69206.orig.jpg</td>\n",
       "      <td>1360</td>\n",
       "      <td>1024</td>\n",
       "      <td>Substrate A</td>\n",
       "      <td>89</td>\n",
       "      <td>114</td>\n",
       "      <td>102</td>\n",
       "      <td>120</td>\n",
       "    </tr>\n",
       "    <tr>\n",
       "      <th>1</th>\n",
       "      <td>201503.20150602.121659332.69206.orig.jpg</td>\n",
       "      <td>1360</td>\n",
       "      <td>1024</td>\n",
       "      <td>Small shell hash</td>\n",
       "      <td>77</td>\n",
       "      <td>141</td>\n",
       "      <td>95</td>\n",
       "      <td>152</td>\n",
       "    </tr>\n",
       "    <tr>\n",
       "      <th>2</th>\n",
       "      <td>201503.20150602.121659332.69206.orig.jpg</td>\n",
       "      <td>1360</td>\n",
       "      <td>1024</td>\n",
       "      <td>sand dollar</td>\n",
       "      <td>492</td>\n",
       "      <td>335</td>\n",
       "      <td>521</td>\n",
       "      <td>365</td>\n",
       "    </tr>\n",
       "    <tr>\n",
       "      <th>3</th>\n",
       "      <td>201503.20150602.121659332.69206.orig.jpg</td>\n",
       "      <td>1360</td>\n",
       "      <td>1024</td>\n",
       "      <td>sand dollar</td>\n",
       "      <td>679</td>\n",
       "      <td>33</td>\n",
       "      <td>708</td>\n",
       "      <td>63</td>\n",
       "    </tr>\n",
       "    <tr>\n",
       "      <th>4</th>\n",
       "      <td>201503.20150602.121659332.69206.orig.jpg</td>\n",
       "      <td>1360</td>\n",
       "      <td>1024</td>\n",
       "      <td>sand dollar</td>\n",
       "      <td>451</td>\n",
       "      <td>333</td>\n",
       "      <td>480</td>\n",
       "      <td>363</td>\n",
       "    </tr>\n",
       "  </tbody>\n",
       "</table>\n",
       "</div>"
      ],
      "text/plain": [
       "                                   filename  width  height             class  \\\n",
       "0  201503.20150602.121659332.69206.orig.jpg   1360    1024       Substrate A   \n",
       "1  201503.20150602.121659332.69206.orig.jpg   1360    1024  Small shell hash   \n",
       "2  201503.20150602.121659332.69206.orig.jpg   1360    1024       sand dollar   \n",
       "3  201503.20150602.121659332.69206.orig.jpg   1360    1024       sand dollar   \n",
       "4  201503.20150602.121659332.69206.orig.jpg   1360    1024       sand dollar   \n",
       "\n",
       "   xmin  ymin  xmax  ymax  \n",
       "0    89   114   102   120  \n",
       "1    77   141    95   152  \n",
       "2   492   335   521   365  \n",
       "3   679    33   708    63  \n",
       "4   451   333   480   363  "
      ]
     },
     "execution_count": 51,
     "metadata": {},
     "output_type": "execute_result"
    }
   ],
   "source": [
    "df.head(5)"
   ]
  },
  {
   "cell_type": "code",
   "execution_count": 56,
   "metadata": {},
   "outputs": [
    {
     "name": "stdout",
     "output_type": "stream",
     "text": [
      "sand dollar         3648\n",
      "Substrate A           26\n",
      "Small shell hash      11\n",
      "Substrate B            3\n",
      "Hermit crab            3\n",
      "Scallop                2\n",
      "Moon Snail             1\n",
      "Whelk                  1\n",
      "Name: class, dtype: int64\n"
     ]
    },
    {
     "data": {
      "image/png": "[encoded data removed]",
      "text/plain": [
       "<Figure size 1440x360 with 1 Axes>"
      ]
     },
     "metadata": {},
     "output_type": "display_data"
    }
   ],
   "source": [
    "# View of the distribution\n",
    "import matplotlib.pyplot as plt\n",
    "plt.style.use('ggplot')\n",
    "\n",
    "plt.figure(figsize = (20, 5))\n",
    "plt.hist(df['class'], align = 'mid', bins = 50);\n",
    "\n",
    "print(df['class'].value_counts())"
   ]
  },
  {
   "cell_type": "code",
   "execution_count": null,
   "metadata": {},
   "outputs": [],
   "source": []
  },
  {
   "cell_type": "code",
   "execution_count": 5,
   "metadata": {},
   "outputs": [
    {
     "data": {
      "text/plain": [
       "Index(['filename', 'width', 'height', 'class', 'xmin', 'ymin', 'xmax', 'ymax'], dtype='object')"
      ]
     },
     "execution_count": 5,
     "metadata": {},
     "output_type": "execute_result"
    }
   ],
   "source": [
    "df.columns"
   ]
  },
  {
   "cell_type": "code",
   "execution_count": 43,
   "metadata": {},
   "outputs": [],
   "source": [
    "# for converting the csv/pandas dataframe into TFRecord format\n",
    "# https://stackoverflow.com/questions/41402332/tensorflow-create-a-tfrecords-file-from-csv\n",
    "\n",
    "import pandas as pd\n",
    "import tensorflow as tf\n",
    "import numpy as np\n",
    "\n",
    "import warnings\n",
    "warnings.filterwarnings('ignore')\n",
    "\n",
    "# The function takes in the all of the features of a single annotation instance as a list, and then also the label as its own variable\n",
    "# it creates a TFRecord (see below cell for how the format looks, similar to XML)\n",
    "\n",
    "def create_tf_example(features, label):\n",
    "\n",
    "    tf_example = tf.train.Example(features=tf.train.Features(feature={\n",
    "        'filename': tf.train.Feature(bytes_list=tf.train.BytesList(value=[features[0].encode('utf-8')])),\n",
    "        'width':tf.train.Feature(int64_list=tf.train.Int64List(value=[int(features[1])])),\n",
    "        'height':tf.train.Feature(int64_list=tf.train.Int64List(value=[int(features[2])])),\n",
    "        'class':tf.train.Feature(bytes_list=tf.train.BytesList(value=[label.encode('utf-8')])),\n",
    "        'xmin':tf.train.Feature(int64_list=tf.train.Int64List(value=[int(features[3])])),\n",
    "        'ymin':tf.train.Feature(int64_list=tf.train.Int64List(value=[int(features[4])])),\n",
    "        'xmax':tf.train.Feature(int64_list=tf.train.Int64List(value=[int(features[5])])),\n",
    "        'ymax':tf.train.Feature(int64_list=tf.train.Int64List(value=[int(features[6])])),\n",
    "    }))\n",
    "    return tf_example\n"
   ]
  },
  {
   "cell_type": "code",
   "execution_count": 57,
   "metadata": {},
   "outputs": [],
   "source": [
    "# Loops through all of the rows in the pandas dataframe and individually converts each annotation instance into the TFRecord format\n",
    "# note that this loop breaks after a single annotation just to provide an example. Remove the break when actually using!\n",
    "# Saves/writes the output in root folder\n",
    "with tf.python_io.TFRecordWriter(\"dataset.tfrecords\") as writer:\n",
    "    for index, row in df.iterrows():\n",
    "        features = np.array(list(row[0:3].values) + list(row[4:].values))      \n",
    "        # All of the features in the row, minus the class label\n",
    "        label = row[3]                     \n",
    "        # just the class label\n",
    "        example = create_tf_example(features, label)  \n",
    "        # creates a TFRecord\n",
    "        writer.write(example.SerializeToString())\n",
    "        # break for example, remove otherwise to run entire set\n",
    "        break                                  \n",
    "        \n",
    "writer.close()"
   ]
  },
  {
   "cell_type": "code",
   "execution_count": 58,
   "metadata": {},
   "outputs": [
    {
     "data": {
      "text/plain": [
       "features {\n",
       "  feature {\n",
       "    key: \"class\"\n",
       "    value {\n",
       "      bytes_list {\n",
       "        value: \"Substrate A\"\n",
       "      }\n",
       "    }\n",
       "  }\n",
       "  feature {\n",
       "    key: \"filename\"\n",
       "    value {\n",
       "      bytes_list {\n",
       "        value: \"201503.20150602.121659332.69206.orig.jpg\"\n",
       "      }\n",
       "    }\n",
       "  }\n",
       "  feature {\n",
       "    key: \"height\"\n",
       "    value {\n",
       "      int64_list {\n",
       "        value: 1024\n",
       "      }\n",
       "    }\n",
       "  }\n",
       "  feature {\n",
       "    key: \"width\"\n",
       "    value {\n",
       "      int64_list {\n",
       "        value: 1360\n",
       "      }\n",
       "    }\n",
       "  }\n",
       "  feature {\n",
       "    key: \"xmax\"\n",
       "    value {\n",
       "      int64_list {\n",
       "        value: 102\n",
       "      }\n",
       "    }\n",
       "  }\n",
       "  feature {\n",
       "    key: \"xmin\"\n",
       "    value {\n",
       "      int64_list {\n",
       "        value: 89\n",
       "      }\n",
       "    }\n",
       "  }\n",
       "  feature {\n",
       "    key: \"ymax\"\n",
       "    value {\n",
       "      int64_list {\n",
       "        value: 120\n",
       "      }\n",
       "    }\n",
       "  }\n",
       "  feature {\n",
       "    key: \"ymin\"\n",
       "    value {\n",
       "      int64_list {\n",
       "        value: 114\n",
       "      }\n",
       "    }\n",
       "  }\n",
       "}"
      ]
     },
     "execution_count": 58,
     "metadata": {},
     "output_type": "execute_result"
    }
   ],
   "source": [
    "# displays the converted annotation\n",
    "example"
   ]
  },
  {
   "cell_type": "code",
   "execution_count": null,
   "metadata": {},
   "outputs": [],
   "source": []
  }
 ],
 "metadata": {
  "kernelspec": {
   "display_name": "Python 3",
   "language": "python",
   "name": "python3"
  },
  "language_info": {
   "codemirror_mode": {
    "name": "ipython",
    "version": 3
   },
   "file_extension": ".py",
   "mimetype": "text/x-python",
   "name": "python",
   "nbconvert_exporter": "python",
   "pygments_lexer": "ipython3",
   "version": "3.6.7"
  }
 },
 "nbformat": 4,
 "nbformat_minor": 4
}
