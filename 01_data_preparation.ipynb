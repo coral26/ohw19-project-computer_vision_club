{
 "cells": [
  {
   "cell_type": "markdown",
   "metadata": {},
   "source": [
    "# Data preparation\n",
    "\n",
    "\n",
    "## File list\n",
    "The directory structure of the actual annotations is quite odd.\n",
    "Below some path magics to extract the filenames for both: images and xml annotations."
   ]
  },
  {
   "cell_type": "code",
   "execution_count": 1,
   "metadata": {},
   "outputs": [],
   "source": [
    "from pathlib import Path, PosixPath"
   ]
  },
  {
   "cell_type": "code",
   "execution_count": 2,
   "metadata": {},
   "outputs": [],
   "source": [
    "import itertools"
   ]
  },
  {
   "cell_type": "code",
   "execution_count": 3,
   "metadata": {},
   "outputs": [],
   "source": [
    "# set the path to where the annotations are"
   ]
  },
  {
   "cell_type": "code",
   "execution_count": 4,
   "metadata": {},
   "outputs": [],
   "source": [
    "annotations = '/home/epinux/annotate2/'"
   ]
  },
  {
   "cell_type": "code",
   "execution_count": 5,
   "metadata": {},
   "outputs": [],
   "source": [
    "jpeg_files = [str(i) for i in itertools.chain.from_iterable(\n",
    "            [list(i.glob('*.jpg')) for i in itertools.chain.from_iterable(\n",
    "                [sorted(i.glob('*')) for i in sorted(Path(annotations).glob('*'))])])]"
   ]
  },
  {
   "cell_type": "code",
   "execution_count": 6,
   "metadata": {},
   "outputs": [
    {
     "data": {
      "text/plain": [
       "2635"
      ]
     },
     "execution_count": 6,
     "metadata": {},
     "output_type": "execute_result"
    }
   ],
   "source": [
    "len(jpeg_files)"
   ]
  },
  {
   "cell_type": "code",
   "execution_count": 7,
   "metadata": {},
   "outputs": [],
   "source": [
    "xml_files = [str(i) for i in itertools.chain.from_iterable(\n",
    "            [list(i.glob('*.xml')) for i in itertools.chain.from_iterable(\n",
    "                [sorted(i.glob('*')) for i in sorted(Path(annotations).glob('*'))])])]"
   ]
  },
  {
   "cell_type": "markdown",
   "metadata": {},
   "source": [
    "## Subsampling\n",
    "\n",
    "Reduce the `xml` annotation files with a reduce factor $R_f$\n",
    "Starting value:\n",
    "\n",
    "$$\n",
    "R_f=0.125 \\quad \\text{which will reduce the amount of files to 12.5% of the total}\n",
    "$$"
   ]
  },
  {
   "cell_type": "code",
   "execution_count": 8,
   "metadata": {},
   "outputs": [],
   "source": [
    "import numpy as np\n",
    "reduce_factor = 0.125\n",
    "np.random.seed(0)\n",
    "msk = np.random.rand(len(xml_files), ) < reduce_factor\n",
    "sample = list(np.array(xml_files)[msk])"
   ]
  },
  {
   "cell_type": "code",
   "execution_count": 9,
   "metadata": {},
   "outputs": [
    {
     "data": {
      "text/plain": [
       "339"
      ]
     },
     "execution_count": 9,
     "metadata": {},
     "output_type": "execute_result"
    }
   ],
   "source": [
    "len(sample)"
   ]
  },
  {
   "cell_type": "code",
   "execution_count": 10,
   "metadata": {},
   "outputs": [
    {
     "data": {
      "text/plain": [
       "['/home/epinux/annotate2/cat1/cat1_0/201503.20150602.113901432.55596.orig.xml',\n",
       " '/home/epinux/annotate2/cat1/cat1_0/201503.20150602.113901762.55598.orig.xml',\n",
       " '/home/epinux/annotate2/cat1/cat1_0/201403.20140722.024040614.218668.orig.xml',\n",
       " '/home/epinux/annotate2/cat1/cat1_0/201303.20130711.191010294.1022035.orig.xml',\n",
       " '/home/epinux/annotate2/cat1/cat1_0/201303.20130710.193557273.504810.orig.xml']"
      ]
     },
     "execution_count": 10,
     "metadata": {},
     "output_type": "execute_result"
    }
   ],
   "source": [
    "sample[:5]"
   ]
  },
  {
   "cell_type": "markdown",
   "metadata": {},
   "source": [
    "## Annotation Parsing\n",
    "\n",
    "Parsing each `xml` file and store the resutls as `pandas.Dataframe`\n"
   ]
  },
  {
   "cell_type": "code",
   "execution_count": 11,
   "metadata": {},
   "outputs": [],
   "source": [
    "import os\n",
    "import glob\n",
    "import pandas as pd\n",
    "import xml.etree.ElementTree as ET"
   ]
  },
  {
   "cell_type": "code",
   "execution_count": 12,
   "metadata": {},
   "outputs": [],
   "source": [
    "def xml_to_csv(xml_files):\n",
    "    xml_list = []\n",
    "    for xml_file in xml_files:\n",
    "        tree = ET.parse(xml_file)\n",
    "        root = tree.getroot()\n",
    "        for member in root.findall('object'):\n",
    "            value = (root.find('filename').text,\n",
    "                     int(root.find('size')[0].text),\n",
    "                     int(root.find('size')[1].text),\n",
    "                     member[0].text,\n",
    "                     int(member[4][0].text),\n",
    "                     int(member[4][1].text),\n",
    "                     int(member[4][2].text),\n",
    "                     int(member[4][3].text)\n",
    "                     )\n",
    "            xml_list.append(value)\n",
    "    column_name = ['filename', 'width', 'height', 'class', 'xmin', 'ymin', 'xmax', 'ymax']\n",
    "    xml_df = pd.DataFrame(xml_list, columns=column_name)\n",
    "    return xml_df"
   ]
  },
  {
   "cell_type": "code",
   "execution_count": 13,
   "metadata": {},
   "outputs": [],
   "source": [
    "records = xml_to_csv(sample)"
   ]
  },
  {
   "cell_type": "markdown",
   "metadata": {},
   "source": [
    "Get an idea of which labels are in all the annotations"
   ]
  },
  {
   "cell_type": "code",
   "execution_count": 14,
   "metadata": {},
   "outputs": [
    {
     "data": {
      "text/plain": [
       "['Substrate E',\n",
       " 'Small shell hash',\n",
       " 'Scallop',\n",
       " 'Substrate A',\n",
       " 'sand dollar',\n",
       " 'Cerianthus sp',\n",
       " 'difficult',\n",
       " 'Substrate B',\n",
       " 'Large shell hash',\n",
       " 'Substrate F',\n",
       " 'Hermit crab',\n",
       " 'Asterias sp',\n",
       " 'Skate',\n",
       " 'Whelk',\n",
       " 'Hydractinia echinata',\n",
       " 'Barnacles',\n",
       " 'Shrimp',\n",
       " 'Coral',\n",
       " 'Halichondria',\n",
       " 'white anemone',\n",
       " 'waved whelk',\n",
       " 'Botrylloides sp',\n",
       " 'Too Difficult',\n",
       " 'Hake',\n",
       " 'Cancer sp',\n",
       " 'Moon Snail',\n",
       " 'Nudibranch',\n",
       " 'Clam',\n",
       " 'Bivalve',\n",
       " 'Henricia sanguinolenta',\n",
       " 'Leucosolenia',\n",
       " 'Substrate D',\n",
       " 'Ocean Pout',\n",
       " 'Gadid',\n",
       " 'Substrate C',\n",
       " 'Threeline Mud Snail',\n",
       " 'Mottled Sea Star']"
      ]
     },
     "execution_count": 14,
     "metadata": {},
     "output_type": "execute_result"
    }
   ],
   "source": [
    "list(records['class'].unique())"
   ]
  },
  {
   "cell_type": "code",
   "execution_count": 15,
   "metadata": {},
   "outputs": [
    {
     "data": {
      "text/html": [
       "<div>\n",
       "<style scoped>\n",
       "    .dataframe tbody tr th:only-of-type {\n",
       "        vertical-align: middle;\n",
       "    }\n",
       "\n",
       "    .dataframe tbody tr th {\n",
       "        vertical-align: top;\n",
       "    }\n",
       "\n",
       "    .dataframe thead th {\n",
       "        text-align: right;\n",
       "    }\n",
       "</style>\n",
       "<table border=\"1\" class=\"dataframe\">\n",
       "  <thead>\n",
       "    <tr style=\"text-align: right;\">\n",
       "      <th></th>\n",
       "      <th>filename</th>\n",
       "      <th>width</th>\n",
       "      <th>height</th>\n",
       "      <th>class</th>\n",
       "      <th>xmin</th>\n",
       "      <th>ymin</th>\n",
       "      <th>xmax</th>\n",
       "      <th>ymax</th>\n",
       "    </tr>\n",
       "  </thead>\n",
       "  <tbody>\n",
       "    <tr>\n",
       "      <th>0</th>\n",
       "      <td>201503.20150602.113901432.55596.orig.jpg</td>\n",
       "      <td>1360</td>\n",
       "      <td>1024</td>\n",
       "      <td>Substrate E</td>\n",
       "      <td>72</td>\n",
       "      <td>44</td>\n",
       "      <td>126</td>\n",
       "      <td>91</td>\n",
       "    </tr>\n",
       "    <tr>\n",
       "      <th>1</th>\n",
       "      <td>201503.20150602.113901432.55596.orig.jpg</td>\n",
       "      <td>1360</td>\n",
       "      <td>1024</td>\n",
       "      <td>Small shell hash</td>\n",
       "      <td>149</td>\n",
       "      <td>51</td>\n",
       "      <td>192</td>\n",
       "      <td>94</td>\n",
       "    </tr>\n",
       "    <tr>\n",
       "      <th>2</th>\n",
       "      <td>201503.20150602.113901762.55598.orig.jpg</td>\n",
       "      <td>1360</td>\n",
       "      <td>1024</td>\n",
       "      <td>Substrate E</td>\n",
       "      <td>68</td>\n",
       "      <td>52</td>\n",
       "      <td>120</td>\n",
       "      <td>96</td>\n",
       "    </tr>\n",
       "    <tr>\n",
       "      <th>3</th>\n",
       "      <td>201503.20150602.113901762.55598.orig.jpg</td>\n",
       "      <td>1360</td>\n",
       "      <td>1024</td>\n",
       "      <td>Small shell hash</td>\n",
       "      <td>146</td>\n",
       "      <td>51</td>\n",
       "      <td>196</td>\n",
       "      <td>104</td>\n",
       "    </tr>\n",
       "    <tr>\n",
       "      <th>4</th>\n",
       "      <td>201503.20150602.113901762.55598.orig.jpg</td>\n",
       "      <td>1360</td>\n",
       "      <td>1024</td>\n",
       "      <td>Scallop</td>\n",
       "      <td>178</td>\n",
       "      <td>98</td>\n",
       "      <td>283</td>\n",
       "      <td>217</td>\n",
       "    </tr>\n",
       "  </tbody>\n",
       "</table>\n",
       "</div>"
      ],
      "text/plain": [
       "                                   filename  width  height             class  \\\n",
       "0  201503.20150602.113901432.55596.orig.jpg   1360    1024       Substrate E   \n",
       "1  201503.20150602.113901432.55596.orig.jpg   1360    1024  Small shell hash   \n",
       "2  201503.20150602.113901762.55598.orig.jpg   1360    1024       Substrate E   \n",
       "3  201503.20150602.113901762.55598.orig.jpg   1360    1024  Small shell hash   \n",
       "4  201503.20150602.113901762.55598.orig.jpg   1360    1024           Scallop   \n",
       "\n",
       "   xmin  ymin  xmax  ymax  \n",
       "0    72    44   126    91  \n",
       "1   149    51   192    94  \n",
       "2    68    52   120    96  \n",
       "3   146    51   196   104  \n",
       "4   178    98   283   217  "
      ]
     },
     "execution_count": 15,
     "metadata": {},
     "output_type": "execute_result"
    }
   ],
   "source": [
    "records.head()"
   ]
  },
  {
   "cell_type": "code",
   "execution_count": 16,
   "metadata": {},
   "outputs": [
    {
     "data": {
      "text/html": [
       "<div>\n",
       "<style scoped>\n",
       "    .dataframe tbody tr th:only-of-type {\n",
       "        vertical-align: middle;\n",
       "    }\n",
       "\n",
       "    .dataframe tbody tr th {\n",
       "        vertical-align: top;\n",
       "    }\n",
       "\n",
       "    .dataframe thead th {\n",
       "        text-align: right;\n",
       "    }\n",
       "</style>\n",
       "<table border=\"1\" class=\"dataframe\">\n",
       "  <thead>\n",
       "    <tr style=\"text-align: right;\">\n",
       "      <th></th>\n",
       "      <th>width</th>\n",
       "      <th>height</th>\n",
       "      <th>xmin</th>\n",
       "      <th>ymin</th>\n",
       "      <th>xmax</th>\n",
       "      <th>ymax</th>\n",
       "    </tr>\n",
       "  </thead>\n",
       "  <tbody>\n",
       "    <tr>\n",
       "      <th>count</th>\n",
       "      <td>8451.0</td>\n",
       "      <td>8451.0</td>\n",
       "      <td>8451.000000</td>\n",
       "      <td>8451.000000</td>\n",
       "      <td>8451.000000</td>\n",
       "      <td>8451.000000</td>\n",
       "    </tr>\n",
       "    <tr>\n",
       "      <th>mean</th>\n",
       "      <td>1360.0</td>\n",
       "      <td>1024.0</td>\n",
       "      <td>634.302213</td>\n",
       "      <td>463.971719</td>\n",
       "      <td>678.500887</td>\n",
       "      <td>508.176310</td>\n",
       "    </tr>\n",
       "    <tr>\n",
       "      <th>std</th>\n",
       "      <td>0.0</td>\n",
       "      <td>0.0</td>\n",
       "      <td>394.956244</td>\n",
       "      <td>300.118176</td>\n",
       "      <td>396.292298</td>\n",
       "      <td>301.462282</td>\n",
       "    </tr>\n",
       "    <tr>\n",
       "      <th>min</th>\n",
       "      <td>1360.0</td>\n",
       "      <td>1024.0</td>\n",
       "      <td>1.000000</td>\n",
       "      <td>1.000000</td>\n",
       "      <td>25.000000</td>\n",
       "      <td>21.000000</td>\n",
       "    </tr>\n",
       "    <tr>\n",
       "      <th>25%</th>\n",
       "      <td>1360.0</td>\n",
       "      <td>1024.0</td>\n",
       "      <td>280.000000</td>\n",
       "      <td>193.000000</td>\n",
       "      <td>326.000000</td>\n",
       "      <td>240.000000</td>\n",
       "    </tr>\n",
       "    <tr>\n",
       "      <th>50%</th>\n",
       "      <td>1360.0</td>\n",
       "      <td>1024.0</td>\n",
       "      <td>625.000000</td>\n",
       "      <td>454.000000</td>\n",
       "      <td>671.000000</td>\n",
       "      <td>501.000000</td>\n",
       "    </tr>\n",
       "    <tr>\n",
       "      <th>75%</th>\n",
       "      <td>1360.0</td>\n",
       "      <td>1024.0</td>\n",
       "      <td>977.000000</td>\n",
       "      <td>727.000000</td>\n",
       "      <td>1022.000000</td>\n",
       "      <td>772.000000</td>\n",
       "    </tr>\n",
       "    <tr>\n",
       "      <th>max</th>\n",
       "      <td>1360.0</td>\n",
       "      <td>1024.0</td>\n",
       "      <td>1341.000000</td>\n",
       "      <td>1010.000000</td>\n",
       "      <td>1360.000000</td>\n",
       "      <td>1024.000000</td>\n",
       "    </tr>\n",
       "  </tbody>\n",
       "</table>\n",
       "</div>"
      ],
      "text/plain": [
       "        width  height         xmin         ymin         xmax         ymax\n",
       "count  8451.0  8451.0  8451.000000  8451.000000  8451.000000  8451.000000\n",
       "mean   1360.0  1024.0   634.302213   463.971719   678.500887   508.176310\n",
       "std       0.0     0.0   394.956244   300.118176   396.292298   301.462282\n",
       "min    1360.0  1024.0     1.000000     1.000000    25.000000    21.000000\n",
       "25%    1360.0  1024.0   280.000000   193.000000   326.000000   240.000000\n",
       "50%    1360.0  1024.0   625.000000   454.000000   671.000000   501.000000\n",
       "75%    1360.0  1024.0   977.000000   727.000000  1022.000000   772.000000\n",
       "max    1360.0  1024.0  1341.000000  1010.000000  1360.000000  1024.000000"
      ]
     },
     "execution_count": 16,
     "metadata": {},
     "output_type": "execute_result"
    }
   ],
   "source": [
    "records.describe()"
   ]
  },
  {
   "cell_type": "code",
   "execution_count": 17,
   "metadata": {},
   "outputs": [],
   "source": [
    "%matplotlib inline"
   ]
  },
  {
   "cell_type": "markdown",
   "metadata": {},
   "source": [
    "Simple statistic description of the sample"
   ]
  },
  {
   "cell_type": "code",
   "execution_count": 18,
   "metadata": {},
   "outputs": [
    {
     "name": "stderr",
     "output_type": "stream",
     "text": [
      "/usr/local/lib/python3.7/dist-packages/matplotlib/__init__.py:886: MatplotlibDeprecationWarning: \n",
      "examples.directory is deprecated; in the future, examples will be found relative to the 'datapath' directory.\n",
      "  \"found relative to the 'datapath' directory.\".format(key))\n"
     ]
    },
    {
     "data": {
      "image/png": "[encoded data removed]",
      "text/plain": [
       "<Figure size 1440x720 with 1 Axes>"
      ]
     },
     "metadata": {},
     "output_type": "display_data"
    }
   ],
   "source": [
    "import matplotlib.pyplot as plt\n",
    "\n",
    "plt.style.use('ggplot')\n",
    "\n",
    "plt.figure(figsize=(20,10))\n",
    "records['class'].value_counts().plot(kind='bar')\n",
    "plt.tight_layout()\n",
    "plt.show()\n",
    "plt.close()"
   ]
  },
  {
   "cell_type": "code",
   "execution_count": 19,
   "metadata": {},
   "outputs": [],
   "source": [
    "# import holoviews as hv\n",
    "# hv.extension('bokeh')\n",
    "# bars = hv.Bars(records['class'].value_counts(), hv.Dimension('index'), 'class').options(width=900, height=500, xrotation= 38)\n",
    "# bars"
   ]
  },
  {
   "cell_type": "markdown",
   "metadata": {},
   "source": [
    "Extract only the `sand dollars` annotations"
   ]
  },
  {
   "cell_type": "code",
   "execution_count": 20,
   "metadata": {},
   "outputs": [],
   "source": [
    "records = records[records['class']==\"sand dollar\"]"
   ]
  },
  {
   "cell_type": "markdown",
   "metadata": {},
   "source": [
    "## Train & Test\n",
    "\n",
    "Split the sampling in training ($70\\%$) and testing ($30\\%$) dataset"
   ]
  },
  {
   "cell_type": "code",
   "execution_count": 21,
   "metadata": {},
   "outputs": [],
   "source": [
    "import numpy as np\n",
    "msk = np.random.rand(len(records)) < 0.7\n",
    "train = records[msk]\n",
    "test = records[~msk]"
   ]
  },
  {
   "cell_type": "code",
   "execution_count": 22,
   "metadata": {},
   "outputs": [
    {
     "data": {
      "text/plain": [
       "(3780, 8)"
      ]
     },
     "execution_count": 22,
     "metadata": {},
     "output_type": "execute_result"
    }
   ],
   "source": [
    "train.shape"
   ]
  },
  {
   "cell_type": "code",
   "execution_count": 23,
   "metadata": {},
   "outputs": [
    {
     "data": {
      "text/plain": [
       "(1514, 8)"
      ]
     },
     "execution_count": 23,
     "metadata": {},
     "output_type": "execute_result"
    }
   ],
   "source": [
    "test.shape"
   ]
  },
  {
   "cell_type": "code",
   "execution_count": 24,
   "metadata": {},
   "outputs": [],
   "source": [
    "test.to_csv('test.csv', index=False)\n",
    "train.to_csv('train.csv', index=False)"
   ]
  },
  {
   "cell_type": "markdown",
   "metadata": {},
   "source": [
    "## TensorFlow records\n"
   ]
  },
  {
   "cell_type": "code",
   "execution_count": 25,
   "metadata": {},
   "outputs": [],
   "source": [
    "# for converting the csv/pandas dataframe into TFRecord format\n",
    "# https://stackoverflow.com/questions/41402332/tensorflow-create-a-tfrecords-file-from-csv\n",
    "\n",
    "import pandas as pd\n",
    "import tensorflow as tf\n",
    "import numpy as np\n",
    "\n",
    "import warnings\n",
    "warnings.filterwarnings('ignore')\n",
    "\n",
    "# The function takes in the all of the features of a single annotation instance as a list, and then also the label as its own variable\n",
    "# it creates a TFRecord (see below cell for how the format looks, similar to XML)\n",
    "\n",
    "def create_tf_example(features, label):\n",
    "\n",
    "    tf_example = tf.train.Example(features=tf.train.Features(feature={\n",
    "        'filename': tf.train.Feature(bytes_list=tf.train.BytesList(value=[features[0].encode('utf-8')])),\n",
    "        'width':tf.train.Feature(int64_list=tf.train.Int64List(value=[int(features[1])])),\n",
    "        'height':tf.train.Feature(int64_list=tf.train.Int64List(value=[int(features[2])])),\n",
    "        'class':tf.train.Feature(bytes_list=tf.train.BytesList(value=[label.encode('utf-8')])),\n",
    "        'xmin':tf.train.Feature(int64_list=tf.train.Int64List(value=[int(features[3])])),\n",
    "        'ymin':tf.train.Feature(int64_list=tf.train.Int64List(value=[int(features[4])])),\n",
    "        'xmax':tf.train.Feature(int64_list=tf.train.Int64List(value=[int(features[5])])),\n",
    "        'ymax':tf.train.Feature(int64_list=tf.train.Int64List(value=[int(features[6])])),\n",
    "    }))\n",
    "    return tf_example\n"
   ]
  },
  {
   "cell_type": "code",
   "execution_count": 26,
   "metadata": {},
   "outputs": [],
   "source": [
    "# Loops through all of the rows in the pandas dataframe and individually converts each annotation instance into the TFRecord format\n",
    "# note that this loop breaks after a single annotation just to provide an example. Remove the break when actually using!\n",
    "# Saves/writes the output in root folder\n",
    "with tf.python_io.TFRecordWriter(\"dataset.tfrecords\") as writer:\n",
    "    for index, row in train.iterrows():\n",
    "        features = np.array(list(row[0:3].values) + list(row[4:].values))      \n",
    "        # All of the features in the row, minus the class label\n",
    "        label = row[3]                     \n",
    "        # just the class label\n",
    "        example = create_tf_example(features, label)  \n",
    "        # creates a TFRecord\n",
    "        writer.write(example.SerializeToString())\n",
    "        # break for example, remove otherwise to run entire set\n",
    "        \n",
    "writer.close()"
   ]
  },
  {
   "cell_type": "code",
   "execution_count": 27,
   "metadata": {},
   "outputs": [
    {
     "data": {
      "text/plain": [
       "features {\n",
       "  feature {\n",
       "    key: \"class\"\n",
       "    value {\n",
       "      bytes_list {\n",
       "        value: \"sand dollar\"\n",
       "      }\n",
       "    }\n",
       "  }\n",
       "  feature {\n",
       "    key: \"filename\"\n",
       "    value {\n",
       "      bytes_list {\n",
       "        value: \"201403.20140722.061432385.295337.orig.jpg\"\n",
       "      }\n",
       "    }\n",
       "  }\n",
       "  feature {\n",
       "    key: \"height\"\n",
       "    value {\n",
       "      int64_list {\n",
       "        value: 1024\n",
       "      }\n",
       "    }\n",
       "  }\n",
       "  feature {\n",
       "    key: \"width\"\n",
       "    value {\n",
       "      int64_list {\n",
       "        value: 1360\n",
       "      }\n",
       "    }\n",
       "  }\n",
       "  feature {\n",
       "    key: \"xmax\"\n",
       "    value {\n",
       "      int64_list {\n",
       "        value: 369\n",
       "      }\n",
       "    }\n",
       "  }\n",
       "  feature {\n",
       "    key: \"xmin\"\n",
       "    value {\n",
       "      int64_list {\n",
       "        value: 326\n",
       "      }\n",
       "    }\n",
       "  }\n",
       "  feature {\n",
       "    key: \"ymax\"\n",
       "    value {\n",
       "      int64_list {\n",
       "        value: 208\n",
       "      }\n",
       "    }\n",
       "  }\n",
       "  feature {\n",
       "    key: \"ymin\"\n",
       "    value {\n",
       "      int64_list {\n",
       "        value: 164\n",
       "      }\n",
       "    }\n",
       "  }\n",
       "}"
      ]
     },
     "execution_count": 27,
     "metadata": {},
     "output_type": "execute_result"
    }
   ],
   "source": [
    "example"
   ]
  },
  {
   "cell_type": "code",
   "execution_count": 28,
   "metadata": {},
   "outputs": [
    {
     "name": "stdout",
     "output_type": "stream",
     "text": [
      "https://gist.github.com/4d651a9b3ac205da83a4d16ef236bf04\n"
     ]
    }
   ],
   "source": [
    "!gist test.csv"
   ]
  },
  {
   "cell_type": "code",
   "execution_count": 29,
   "metadata": {},
   "outputs": [
    {
     "name": "stdout",
     "output_type": "stream",
     "text": [
      "https://gist.github.com/db7dc567eaa7118ea3de425d58337cad\n"
     ]
    }
   ],
   "source": [
    "!gist train.csv"
   ]
  },
  {
   "cell_type": "code",
   "execution_count": null,
   "metadata": {},
   "outputs": [],
   "source": [
    "!gist 01_data_preparation.ipynb"
   ]
  },
  {
   "cell_type": "code",
   "execution_count": null,
   "metadata": {},
   "outputs": [],
   "source": []
  },
  {
   "cell_type": "code",
   "execution_count": null,
   "metadata": {},
   "outputs": [],
   "source": []
  }
 ],
 "metadata": {
  "kernelspec": {
   "display_name": "Python 3",
   "language": "python",
   "name": "python3"
  },
  "language_info": {
   "codemirror_mode": {
    "name": "ipython",
    "version": 3
   },
   "file_extension": ".py",
   "mimetype": "text/x-python",
   "name": "python",
   "nbconvert_exporter": "python",
   "pygments_lexer": "ipython3",
   "version": "3.7.3"
  }
 },
 "nbformat": 4,
 "nbformat_minor": 2
}
